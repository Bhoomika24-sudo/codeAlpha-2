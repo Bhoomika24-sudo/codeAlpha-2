{
  "nbformat": 4,
  "nbformat_minor": 0,
  "metadata": {
    "colab": {
      "provenance": []
    },
    "kernelspec": {
      "name": "python3",
      "display_name": "Python 3"
    },
    "language_info": {
      "name": "python"
    }
  },
  "cells": [
    {
      "cell_type": "code",
      "source": [
        "import yfinance as yf\n",
        "import pandas as pd\n",
        "\n",
        "class StockPortfolio:\n",
        "    def __init__(self):\n",
        "        self.portfolio = {}\n",
        "\n",
        "    def add_stock(self, ticker, shares):\n",
        "        if ticker in self.portfolio:\n",
        "            self.portfolio[ticker] += shares\n",
        "        else:\n",
        "            self.portfolio[ticker] = shares\n",
        "        print(f\"Added {shares} shares of {ticker} to the portfolio.\")\n",
        "\n",
        "    def remove_stock(self, ticker, shares):\n",
        "        if ticker in self.portfolio:\n",
        "            if self.portfolio[ticker] >= shares:\n",
        "                self.portfolio[ticker] -= shares\n",
        "                if self.portfolio[ticker] == 0:\n",
        "                    del self.portfolio[ticker]\n",
        "                print(f\"Removed {shares} shares of {ticker} from the portfolio.\")\n",
        "            else:\n",
        "                print(f\"Not enough shares to remove. You have {self.portfolio[ticker]} shares of {ticker}.\")\n",
        "        else:\n",
        "            print(f\"{ticker} not found in the portfolio.\")\n",
        "\n",
        "    def get_portfolio(self):\n",
        "        return self.portfolio\n",
        "\n",
        "    def track_performance(self):\n",
        "        if not self.portfolio:\n",
        "            print(\"Portfolio is empty.\")\n",
        "            return\n",
        "\n",
        "        data = {}\n",
        "        for ticker in self.portfolio:\n",
        "            stock = yf.Ticker(ticker)\n",
        "            hist = stock.history(period=\"1d\")\n",
        "            current_price = hist['Close'].iloc[-1]\n",
        "            data[ticker] = {\n",
        "                'Shares': self.portfolio[ticker],\n",
        "                'Current Price': current_price,\n",
        "                'Total Value': self.portfolio[ticker] * current_price\n",
        "            }\n",
        "\n",
        "        df = pd.DataFrame(data).T\n",
        "        df['Total Value'] = df['Total Value'].astype(float)\n",
        "        print(df)\n",
        "        return df\n",
        "\n",
        "if __name__ == \"__main__\":\n",
        "    portfolio = StockPortfolio()\n",
        "    portfolio.add_stock(\"AAPL\", 10)\n",
        "    portfolio.add_stock(\"GOOGL\", 5)\n",
        "    portfolio.remove_stock(\"GOOGL\", 2)\n",
        "    portfolio.track_performance()"
      ],
      "metadata": {
        "colab": {
          "base_uri": "https://localhost:8080/"
        },
        "id": "PRdb3q5MByDk",
        "outputId": "c0182c50-634f-4c85-e354-10723b997657"
      },
      "execution_count": 9,
      "outputs": [
        {
          "output_type": "stream",
          "name": "stdout",
          "text": [
            "Added 10 shares of AAPL to the portfolio.\n",
            "Added 5 shares of GOOGL to the portfolio.\n",
            "Removed 2 shares of GOOGL from the portfolio.\n",
            "       Shares  Current Price  Total Value\n",
            "AAPL     10.0     214.100006  2141.000061\n",
            "GOOGL     3.0     162.800003   488.400009\n"
          ]
        }
      ]
    }
  ]
}